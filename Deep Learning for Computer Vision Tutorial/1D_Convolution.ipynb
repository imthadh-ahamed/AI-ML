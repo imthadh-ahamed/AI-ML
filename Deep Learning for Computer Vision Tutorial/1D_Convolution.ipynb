{
 "cells": [
  {
   "cell_type": "markdown",
   "metadata": {},
   "source": [
    "This line imports the **NumPy** library and assigns it the alias **np**. <br>\n",
    "**NumPy** is a powerful library for numerical computing in Python.<br>\n",
    "And, **matplotlib.pyplot** is a module in **Matplotlib** a plotting library for Python.\n"
   ]
  },
  {
   "cell_type": "code",
   "execution_count": 1,
   "metadata": {},
   "outputs": [
    {
     "ename": "ModuleNotFoundError",
     "evalue": "No module named 'numpy'",
     "output_type": "error",
     "traceback": [
      "\u001b[1;31m---------------------------------------------------------------------------\u001b[0m",
      "\u001b[1;31mModuleNotFoundError\u001b[0m                       Traceback (most recent call last)",
      "Cell \u001b[1;32mIn[1], line 1\u001b[0m\n\u001b[1;32m----> 1\u001b[0m \u001b[38;5;28;01mimport\u001b[39;00m \u001b[38;5;21;01mnumpy\u001b[39;00m \u001b[38;5;28;01mas\u001b[39;00m \u001b[38;5;21;01mnp\u001b[39;00m\n\u001b[0;32m      2\u001b[0m \u001b[38;5;28;01mimport\u001b[39;00m \u001b[38;5;21;01mmatplotlib\u001b[39;00m\u001b[38;5;21;01m.\u001b[39;00m\u001b[38;5;21;01mpyplot\u001b[39;00m \u001b[38;5;28;01mas\u001b[39;00m \u001b[38;5;21;01mplt\u001b[39;00m\n",
      "\u001b[1;31mModuleNotFoundError\u001b[0m: No module named 'numpy'"
     ]
    }
   ],
   "source": [
    "import numpy as np\n",
    "import matplotlib.pyplot as plt"
   ]
  },
  {
   "cell_type": "markdown",
   "metadata": {},
   "source": [
    "This line creates a NumPy array called signal containing a sequence of numerical values. <br> This array represents a signal with discrete values.\n"
   ]
  },
  {
   "cell_type": "code",
   "execution_count": null,
   "metadata": {},
   "outputs": [],
   "source": [
    "signal = np.array([1, 1, 1, 0.5, 0.5, 1, 1, 0.5, 0.5, 0.5])"
   ]
  },
  {
   "cell_type": "markdown",
   "metadata": {},
   "source": [
    "These lines plot the signal using the **stem()** function from **Matplotlib**.<br>\n",
    "The **stem()** function is used for plotting discrete data, where each data point is represented as a stem with a leaf.<br>\n",
    "In this case, the stems represent the indices of the array, and the heights of the stems represent the values of the signal at those indices.\n",
    "**plt.show()** is then used to **display the plot**."
   ]
  },
  {
   "cell_type": "code",
   "execution_count": null,
   "metadata": {},
   "outputs": [],
   "source": [
    "plt.stem(signal)\n",
    "plt.show()"
   ]
  },
  {
   "cell_type": "markdown",
   "metadata": {},
   "source": [
    "This line convolves the **signal array** with a filter. However, there seems to be a variable **filter** used here which hasn't been defined in the provided code. In convolutional signal processing, convolution is an operation where a function (in this case, the signal array) is combined with another function (the filter array) to produce a third function, which represents how the shape of one is modified by the other. The 'valid' parameter indicates that only the parts of the convolution that do not rely on zero-padding will be returned, resulting in an output array with reduced length compared to the input.\n",
    "<br> <br>\n",
    "\n",
    "Ah, convolution, the maestro of signal processing! Picture it like a culinary masterpiece: you have your main dish, the `signal` array, and you want to spice it up with a secret sauce, represented by the `filter`. Now, `np.convolve()` is like tossing them into a culinary blender and letting them dance together.\n",
    "\n",
    "But wait, there's a twist! The `'valid'` parameter is like telling the blender to only serve you the juiciest bits, leaving out any unnecessary zero-padding. So, you end up with this beautifully blended result, which represents how the flavors of your signal interact with those of your filter.\n",
    "\n",
    "Now, imagine serving this concoction on a plot, like presenting your culinary creation on a silver platter. The `plt.stem(result)` is akin to arranging the ingredients on that platter in a visually appealing way, with stems and leaves representing the essence of your blended signal.\n",
    "\n",
    "But alas, without defining what exactly the `filter` is made of, it's like trying to guess the secret ingredient in a chef's recipe. So, while we can savor the beauty of convolution in theory, the full flavor of this code remains a tantalizing mystery!"
   ]
  },
  {
   "cell_type": "code",
   "execution_count": null,
   "metadata": {},
   "outputs": [],
   "source": [
    "filter = np.array([-1, 1])"
   ]
  },
  {
   "cell_type": "markdown",
   "metadata": {},
   "source": [
    "**V = valid**"
   ]
  },
  {
   "cell_type": "code",
   "execution_count": null,
   "metadata": {},
   "outputs": [],
   "source": [
    "result = np.convolve(signal, filter, \"v\")"
   ]
  },
  {
   "cell_type": "code",
   "execution_count": null,
   "metadata": {},
   "outputs": [],
   "source": [
    "plt.stem(result)\n",
    "plt.show()"
   ]
  }
 ],
 "metadata": {
  "kernelspec": {
   "display_name": "Python 3",
   "language": "python",
   "name": "python3"
  },
  "language_info": {
   "codemirror_mode": {
    "name": "ipython",
    "version": 3
   },
   "file_extension": ".py",
   "mimetype": "text/x-python",
   "name": "python",
   "nbconvert_exporter": "python",
   "pygments_lexer": "ipython3",
   "version": "3.12.2"
  }
 },
 "nbformat": 4,
 "nbformat_minor": 2
}
